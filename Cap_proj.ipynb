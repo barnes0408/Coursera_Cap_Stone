{
 "cells": [
  {
   "cell_type": "code",
   "execution_count": null,
   "metadata": {},
   "outputs": [],
   "source": []
  },
  {
   "cell_type": "markdown",
   "metadata": {},
   "source": [
    "# Capstone Project "
   ]
  },
  {
   "cell_type": "markdown",
   "metadata": {},
   "source": [
    "### Applied Data Science"
   ]
  },
  {
   "cell_type": "markdown",
   "metadata": {},
   "source": [
    "### Introduction/Business Problem"
   ]
  },
  {
   "cell_type": "markdown",
   "metadata": {},
   "source": [
    "In this project, I'll help determine the best location for a restauarnt \\\n",
    "owner to set up a new shop in the city of San Francisco. \\\n",
    "\n",
    "A client has asked the marketing team to help him determine where in \\\n",
    "the city of San Francisco he should set up shop. The data \\\n",
    "team has been tasked with helping to do this. Considering how dynamic \\\n",
    "the city is in terms of which areas are considered safe, \\\n",
    "both crime data and business venue frequency data will be used \\\n",
    "for this determination. "
   ]
  },
  {
   "cell_type": "markdown",
   "metadata": {},
   "source": [
    "### Data "
   ]
  },
  {
   "cell_type": "markdown",
   "metadata": {},
   "source": [
    "Data retrieved by the city of San Fran will be extracted and analyzed \\\n",
    "into dataframes, then charted in accordance to business frequency \\\n",
    "and crime. \n",
    "San Fran Business Data: 'https://data.sfgov.org/api/views/g8m3-pdis/rows.csv?accessType=DOWNLOAD' \\\n",
    "San Fran Crime Data: https://data.sfgov.org/api/views/wg3w-h783/rows.csv?accessType=DOWNLOAD\n",
    "\n",
    "Beyond this, we will access the Foursquare API to determine venue-type frequency in \\\n",
    "neighborhoods and will plot this using a Folium map. Moreover, an introduction to the SciPy \\\n",
    "toolkit will be introduced with the application of a dendrogram. "
   ]
  },
  {
   "cell_type": "code",
   "execution_count": null,
   "metadata": {},
   "outputs": [],
   "source": []
  }
 ],
 "metadata": {
  "kernelspec": {
   "display_name": "Python",
   "language": "python",
   "name": "conda-env-python-py"
  },
  "language_info": {
   "codemirror_mode": {
    "name": "ipython",
    "version": 3
   },
   "file_extension": ".py",
   "mimetype": "text/x-python",
   "name": "python",
   "nbconvert_exporter": "python",
   "pygments_lexer": "ipython3",
   "version": "3.6.12"
  }
 },
 "nbformat": 4,
 "nbformat_minor": 4
}
